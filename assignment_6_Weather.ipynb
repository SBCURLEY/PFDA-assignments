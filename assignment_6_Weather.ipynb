{
 "cells": [
  {
   "cell_type": "markdown",
   "metadata": {},
   "source": [
    "**<h1 align=\"center\">Knock Airport Weather</h1>**\n",
    "\n",
    "# <h1 align=\"center\">Assignment 6</h1>\n",
    "\n",
    "## <h1 align=\"center\">By Sharon Curley</h1>\n",
    "\n",
    "***"
   ]
  },
  {
   "cell_type": "markdown",
   "metadata": {},
   "source": [
    "### Table of Contents\n",
    "\n",
    "\n",
    "1. About the Assignment\n",
    "2. Import Libraries\n",
    "3. Load Data\n",
    "\n",
    "4. Data Exploration\n",
    "   \n",
    "    4.1  Check for the DataFrame dimensionality with pandas .info() method\n",
    "\n",
    "    4.2  Selecting data by row numbers (.iloc)\n",
    "\n",
    "    4.3  Generate descriptive statistics with pandas .describe method\n",
    "    \n",
    "5. Cleaning the Dataset\n",
    "   \n",
    "    5.1 Working with missing data\n",
    "\n",
    "    5.2 Identify missing values\n",
    "\n",
    "    5.3 Remove missing values\n",
    "\n",
    "    5.4 Check the data\n",
    "\n",
    "6. Data Analysis\n",
    "   \n",
    "    6.1  Analysis: Part 1\n",
    "     - 6.1.1 The temperature\n",
    "\n",
    "     - 6.1.2 The mean temperature each day\n",
    "\n",
    "     - 6.1.3 The mean temperature for each month\n",
    "  \n",
    "    6.2 Analysis: Part 2\n",
    "\n",
    "     - 6.2.1 Data Insight\n",
    "  \n",
    "     - 6.2.2 The Windspeed (there is data missing from this column)\n",
    "\n",
    "     - 6.2.3 The rolling windspeed (say over 24 hours)\n",
    "\n",
    "     - 6.2.4 The max windspeed for each day\n",
    "  \n",
    "     - 6.2.5 The monthly mean of the daily max windspeeds (yer I am being nasty here)\n",
    " \n",
    "7.  Conclusion\n",
    "   \n",
    "8.  References"
   ]
  },
  {
   "cell_type": "markdown",
   "metadata": {},
   "source": [
    "### 1. About the Assignment\n",
    "***\n",
    "This assignment is to create plots from Knock Airport weather data found here https://cli.fusio.net/cli/climate_data/webdata/hly4935.csv\n",
    "\n",
    "Firstly,  plotting the following:\n",
    "\n",
    "- The temperature\n",
    "- The mean temperature each day\n",
    "- The mean temperature for each month\n",
    "\n",
    "Secondly,  plotting the following:\n",
    "\n",
    "- The Windspeed (there is data missing from this column)\n",
    "- The rolling windspeed (say over 24 hours)\n",
    "- The max windspeed for each day\n",
    "- The monthly mean of the daily max windspeeds (yer I am being nasty here)\n",
    "\n",
    "\n"
   ]
  },
  {
   "cell_type": "markdown",
   "metadata": {},
   "source": [
    "### 2. Import the Libraries\n",
    "***\n",
    "\n",
    "I imported the following libraries to plot the dataset.\n",
    "\n",
    "- `matplotlib.pyplot`: Essential for creating static, animated, and interactive visualizations in Python. It is closely integrated with NumPy and provides a MATLAB-like interface for creating plots and visualizations.\n",
    "- `numpy`: It contains functionality for multidimensional arrays, high-level mathematical functions such as linear algebra operations.\n",
    "- `pandas`: Fundamental data analysis and manipulation library built on top of the Python programming language. It offers data structures and operations for manipulating numerical tables and time series.\n",
    "- `seaborn`: Seaborn is a Python data visualization library based on matplotlib. It provides a high-level interface for drawing attractive and informative statistical graphics."
   ]
  },
  {
   "cell_type": "code",
   "execution_count": 2,
   "metadata": {},
   "outputs": [],
   "source": [
    "import matplotlib.pyplot as pl\n",
    "import numpy as np\n",
    "import pandas as pd\n",
    "import seaborn as sns"
   ]
  },
  {
   "cell_type": "markdown",
   "metadata": {},
   "source": [
    "### Load the Data\n",
    "***\n",
    "Load the dataset from [the Knock Airport weather readings](https://cli.fusio.net/cli/climate_data/webdata/hly4935.csv)"
   ]
  },
  {
   "cell_type": "code",
   "execution_count": 6,
   "metadata": {},
   "outputs": [
    {
     "name": "stderr",
     "output_type": "stream",
     "text": [
      "C:\\Users\\curleys\\AppData\\Local\\Temp\\ipykernel_23288\\382437672.py:1: DtypeWarning: Columns (2,10,12,14,15,16,18,19,20) have mixed types. Specify dtype option on import or set low_memory=False.\n",
      "  df=pd.read_csv(\"https://cli.fusio.net/cli/climate_data/webdata/hly4935.csv\", skiprows=22)\n"
     ]
    }
   ],
   "source": [
    "df=pd.read_csv(\"https://cli.fusio.net/cli/climate_data/webdata/hly4935.csv\", skiprows=22)"
   ]
  },
  {
   "cell_type": "markdown",
   "metadata": {},
   "source": [
    "### Data Exploration\n",
    "***"
   ]
  }
 ],
 "metadata": {
  "kernelspec": {
   "display_name": "base",
   "language": "python",
   "name": "python3"
  },
  "language_info": {
   "codemirror_mode": {
    "name": "ipython",
    "version": 3
   },
   "file_extension": ".py",
   "mimetype": "text/x-python",
   "name": "python",
   "nbconvert_exporter": "python",
   "pygments_lexer": "ipython3",
   "version": "3.12.4"
  }
 },
 "nbformat": 4,
 "nbformat_minor": 2
}
