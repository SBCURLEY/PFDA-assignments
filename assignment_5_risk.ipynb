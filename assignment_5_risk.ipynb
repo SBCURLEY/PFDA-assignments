{
 "cells": [
  {
   "cell_type": "markdown",
   "metadata": {},
   "source": [
    "**<h1 align=\"center\">Risk Game</h1>**\n",
    "\n",
    "# <h1 align=\"center\">Assignment 5</h1>\n",
    "\n",
    "## <h1 align=\"center\">By Sharon Curley</h1>\n",
    "\n",
    "***"
   ]
  },
  {
   "cell_type": "markdown",
   "metadata": {},
   "source": [
    "### About the Assignment\n",
    "***\n",
    "The assignment is to write a program (or notebook) which simulates 1000 individual battle rounds in Risk (3 attacker vs 2 defender) and plots the result.\n",
    "Here are the main sections of the assignment.\n",
    "\n",
    "1. Import Libraries\n",
    "2. Rules of Risk\n",
    "3. The Game\n",
    "4. Plot the Results\n",
    "5. References"
   ]
  },
  {
   "cell_type": "markdown",
   "metadata": {},
   "source": [
    "### 1. Import the Libraries\n",
    "***\n",
    "\n",
    "I import the following libraries to plot the dataset.\n",
    "\n",
    "- `matplotlib.pyplot`: Essential for creating static, animated, and interactive visualizations in Python. It is closely integrated with NumPy and provides a MATLAB-like interface for creating plots and visualizations.\n",
    "- `numpy`: It contains functionality for multidimensional arrays, high-level mathematical functions such as linear algebra operations.\n",
    "- `pandas`: Fundamental data analysis and manipulation library built on top of the Python programming language. It offers data structures and operations for manipulating numerical tables and time series."
   ]
  },
  {
   "cell_type": "code",
   "execution_count": 1,
   "metadata": {},
   "outputs": [],
   "source": [
    "import matplotlib.pyplot as plt\n",
    "import numpy as np\n",
    "import pandas as pd"
   ]
  },
  {
   "cell_type": "markdown",
   "metadata": {},
   "source": [
    "### 2. Rules of Risk\n",
    "***\n",
    "\n",
    "In Risk one army fights another. (using 6 sided dice)\n",
    "\n",
    "In each battle round, the attacker can put forward up to three of their troops (3 dice).\n",
    "\n",
    "The defender can use up to two of their defending troops (2 dice).\n",
    "\n",
    "Each side looses troops depending on the following rules:\n",
    "\n",
    "- The two top dice dice are compared (ie the attackers top dice roll with the defenders top dice roll) \n",
    "  - If the attackers dice is the same or lower they loose one troop otherwise the defender looses a troop (ie if the attackers dice is higher)\n",
    "- The next two highest dice from each side are then compared (ie the attackers second highest to the defenders second highest)\n",
    "  - If the attackers dice is the same or lower they loose one troop otherwise the defender looses a troop (ie if the attackers dice is higher)\n"
   ]
  },
  {
   "cell_type": "markdown",
   "metadata": {},
   "source": [
    "### 3. The Game\n",
    "***"
   ]
  },
  {
   "cell_type": "code",
   "execution_count": null,
   "metadata": {},
   "outputs": [
    {
     "name": "stdout",
     "output_type": "stream",
     "text": [
      "[292, 322, 386]\n",
      "[386, 322, 292]\n"
     ]
    }
   ],
   "source": [
    "def simulate_battle():\n",
    "    \n",
    "    attacker = np.random.randint(1, 7, 3)                   # generates an array of three random integers between 1 and 6 for the attacker’s dice.\n",
    "    defender = np.random.randint(1, 7, 2)                   # same for defender but two random integers between 1 and 6\n",
    "\n",
    "    a = np.sort(attacker)[::-1]                             # sort attackers scores in descending order by creating a new array\n",
    "    b = np.sort(defender)[::-1]                             # sort defenders scores in descending order by creating a new array\n",
    "\n",
    "    attacker_score = 0                                      # counters - starting point is zero\n",
    "    defender_score = 0                                      # counters - starting point is zero\n",
    "    \n",
    "    for i, j in zip(a, b):                                  # zip (a, b) pairs each sorted attacker roll with a defender roll. (descending above)\n",
    "        if i > j:                                           # if the attackers roll i is greater than the defenders roll j \n",
    "            attacker_score += 1                             # the defender loses an army\n",
    "        else:\n",
    "            defender_score += 1                             # otherwise the attacker loses an army\n",
    "\n",
    "    return attacker_score, defender_score                   # returns total losses\n",
    "\n",
    "def simulate_battles(n_rounds):\n",
    "    attacker_losses = np.zeros(n_rounds, dtype=int)         # stores the number of armies lost by the attacker \n",
    "    defender_losses = np.zeros(n_rounds, dtype=int)         # stores the number of armies lost by the defender \n",
    "\n",
    "    for i in range(n_rounds):                               # simulate each round of battle\n",
    "        attacker_loss, defender_loss = simulate_battle()\n",
    "        attacker_losses[i] = attacker_loss                  # results are stored\n",
    "        defender_losses[i] = defender_loss                  # results are stored\n",
    "\n",
    "    return attacker_losses, defender_losses                 # Returns the total number of armies lost by each side in each battle.\n",
    "\n",
    "n_rounds = 1000                                             # Simulate 1000 battles\n",
    "attacker_losses, defender_losses = simulate_battles(n_rounds)\n",
    "\n",
    "attacker_loss_counts = [np.sum(attacker_losses == i) for i in range(3)]         # generates values from 0 to 2 for each loss amount for attacker. The third always results in zero.\n",
    "defender_loss_counts = [np.sum(defender_losses == i) for i in range(3)]         # generates values from 0 to 2 for each loss amount for defender\n",
    "\n",
    "print (attacker_loss_counts)\n",
    "print (defender_loss_counts)"
   ]
  },
  {
   "cell_type": "markdown",
   "metadata": {},
   "source": [
    "### 4. Plot the Results\n",
    "***"
   ]
  },
  {
   "cell_type": "code",
   "execution_count": 39,
   "metadata": {},
   "outputs": [
    {
     "data": {
      "image/png": "[encoded data removed]",
      "text/plain": [
       "<Figure size 1000x600 with 1 Axes>"
      ]
     },
     "metadata": {},
     "output_type": "display_data"
    }
   ],
   "source": [
    "labels = ['0','1', '2']\n",
    "x = np.arange(len(labels))  # the label locations\n",
    "\n",
    "fig, ax = plt.subplots(figsize=(10, 6))\n",
    "\n",
    "# Plot each count in a stacked format\n",
    "ax.bar(x, attacker_loss_counts, color='#24b1d1', label='Attacker')\n",
    "ax.bar(x[:3], defender_loss_counts, color='#ae24d1', label='Defender', bottom=attacker_loss_counts[:3])\n",
    "\n",
    "# Add labels and title\n",
    "ax.set_xlabel('Armies Lost',fontsize=10,style=\"italic\",family=\"monospace\")\n",
    "ax.set_ylabel('Frequency',fontsize=10,style=\"italic\",family=\"monospace\")\n",
    "ax.set_title('Stacked Distribution of Armies Lost',fontsize=14,loc=\"center\",\n",
    "            horizontalalignment=\"center\",verticalalignment=\"bottom\",fontweight=\"bold\",family=\"monospace\")\n",
    "ax.set_xticks(x)\n",
    "ax.set_xticklabels(labels)\n",
    "ax.legend(title=\"Army Losses\",loc=\"center left\",bbox_to_anchor=(1, 0, 0.5, 1))\n",
    "\n",
    "plt.show()"
   ]
  },
  {
   "cell_type": "markdown",
   "metadata": {},
   "source": [
    "### 5. References\n",
    "***\n",
    "\n",
    "1. Week 5 Lecture Notebooks - Numpy and Random\n",
    "\n",
    "2. Code Review-Stack Exchange - https://codereview.stackexchange.com/questions/249260/python-risk-game\n",
    "\n",
    "3. numpy.random.randint - https://numpy.org/doc/stable/reference/random/generated/numpy.random.randint.html \n",
    "\n",
    "4. w3schools - NumPy Sorting Arrays - https://www.w3schools.com/python/numpy/numpy_array_sort.asp\n",
    "\n",
    "5. Efficiently sorting a numpy array in descending order - https://stackoverflow.com/questions/26984414/efficiently-sorting-a-numpy-array-in-descending-order\n",
    "Note to myself: attacker[::-1].sort() sorts the array in place, whereas a=np.sort(attacker)[::-1] creates a new array.    \n",
    "\n",
    "6.\n",
    "\n",
    "7.\n",
    "\n",
    "8.\n",
    "\n",
    "9.\n",
    "\n",
    "10.\n",
    "\n",
    "11.\n",
    "\n",
    "12. Stacked Bar Charts with Labels in Matplotlib: https://www.pythoncharts.com/matplotlib/stacked-bar-charts-labels/\n",
    "\n"
   ]
  },
  {
   "cell_type": "markdown",
   "metadata": {},
   "source": []
  }
 ],
 "metadata": {
  "kernelspec": {
   "display_name": "base",
   "language": "python",
   "name": "python3"
  },
  "language_info": {
   "codemirror_mode": {
    "name": "ipython",
    "version": 3
   },
   "file_extension": ".py",
   "mimetype": "text/x-python",
   "name": "python",
   "nbconvert_exporter": "python",
   "pygments_lexer": "ipython3",
   "version": "3.12.4"
  }
 },
 "nbformat": 4,
 "nbformat_minor": 2
}
