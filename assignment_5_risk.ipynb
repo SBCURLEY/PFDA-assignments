{
 "cells": [
  {
   "cell_type": "markdown",
   "metadata": {},
   "source": [
    "**<h1 align=\"center\">Risk Game</h1>**\n",
    "\n",
    "# <h1 align=\"center\">Assignment 5</h1>\n",
    "\n",
    "## <h1 align=\"center\">By Sharon Curley</h1>\n",
    "\n",
    "***"
   ]
  },
  {
   "cell_type": "markdown",
   "metadata": {},
   "source": [
    "\n",
    "<p align=\"center\">\n",
    "    <img width=\"1125\" height=\"750\" src=\"./images/image_03_risk.png\" alt=\"Sublime's custom image\"/>\n",
    "</p>\n",
    "\n",
    "\n",
    "###### [Image from Pexels.com](https://www.pexels.com/photo/board-game-game-risk-risk-board-game-961334/)"
   ]
  },
  {
   "cell_type": "markdown",
   "metadata": {},
   "source": [
    "### About the Assignment\n",
    "***\n",
    "The assignment is to write a program (or notebook) which simulates 1000 individual battle rounds in Risk (3 attacker vs 2 defender) and plots the result.\n",
    "Here are the main sections of the assignment.\n",
    "\n",
    "1. Import Libraries\n",
    "2. Rules of Risk\n",
    "3. The Game\n",
    "4. Plot the Results\n",
    "5. References"
   ]
  },
  {
   "cell_type": "markdown",
   "metadata": {},
   "source": [
    "### 1. Import the Libraries\n",
    "***\n",
    "\n",
    "I import the following libraries to plot the dataset.\n",
    "\n",
    "- `matplotlib.pyplot`: Essential for creating static, animated, and interactive visualizations in Python. It is closely integrated with NumPy and provides a MATLAB-like interface for creating plots and visualizations.\n",
    "- `numpy`: It contains functionality for multidimensional arrays, high-level mathematical functions such as linear algebra operations.\n",
    "- `pandas`: Fundamental data analysis and manipulation library built on top of the Python programming language. It offers data structures and operations for manipulating numerical tables and time series."
   ]
  },
  {
   "cell_type": "code",
   "execution_count": 5,
   "metadata": {},
   "outputs": [],
   "source": [
    "import matplotlib.pyplot as plt\n",
    "import numpy as np\n",
    "import pandas as pd"
   ]
  },
  {
   "cell_type": "markdown",
   "metadata": {},
   "source": [
    "### 2. Rules of Risk\n",
    "***\n",
    "\n",
    "In Risk one army fights another. (using 6 sided dice)\n",
    "\n",
    "In each battle round, the attacker can put forward up to three of their troops (3 dice).\n",
    "\n",
    "The defender can use up to two of their defending troops (2 dice).\n",
    "\n",
    "Each side looses troops depending on the following rules:\n",
    "\n",
    "- The two top dice dice are compared (ie the attackers top dice roll with the defenders top dice roll) \n",
    "  - If the attackers dice is the same or lower they loose one troop otherwise the defender looses a troop (ie if the attackers dice is higher)\n",
    "- The next two highest dice from each side are then compared (ie the attackers second highest to the defenders second highest)\n",
    "  - If the attackers dice is the same or lower they loose one troop otherwise the defender looses a troop (ie if the attackers dice is higher)\n"
   ]
  },
  {
   "cell_type": "markdown",
   "metadata": {},
   "source": [
    "### 3. The Game\n",
    "***"
   ]
  },
  {
   "cell_type": "code",
   "execution_count": 6,
   "metadata": {},
   "outputs": [
    {
     "name": "stdout",
     "output_type": "stream",
     "text": [
      "\n",
      "First 10 rounds' dice rolls and losses:\n",
      "Round 1:\n",
      "  Attacker Rolls: [5, 3, 1], Defender Rolls: [3, 2]\n",
      "  Attacker Losses: 0, Defender Losses: 2\n",
      "\n",
      "Round 2:\n",
      "  Attacker Rolls: [6, 4, 1], Defender Rolls: [5, 3]\n",
      "  Attacker Losses: 0, Defender Losses: 2\n",
      "\n",
      "Round 3:\n",
      "  Attacker Rolls: [5, 3, 3], Defender Rolls: [6, 1]\n",
      "  Attacker Losses: 1, Defender Losses: 1\n",
      "\n",
      "Round 4:\n",
      "  Attacker Rolls: [4, 4, 4], Defender Rolls: [5, 4]\n",
      "  Attacker Losses: 2, Defender Losses: 0\n",
      "\n",
      "Round 5:\n",
      "  Attacker Rolls: [6, 3, 3], Defender Rolls: [5, 4]\n",
      "  Attacker Losses: 1, Defender Losses: 1\n",
      "\n",
      "Round 6:\n",
      "  Attacker Rolls: [3, 3, 3], Defender Rolls: [2, 1]\n",
      "  Attacker Losses: 0, Defender Losses: 2\n",
      "\n",
      "Round 7:\n",
      "  Attacker Rolls: [6, 6, 2], Defender Rolls: [4, 2]\n",
      "  Attacker Losses: 0, Defender Losses: 2\n",
      "\n",
      "Round 8:\n",
      "  Attacker Rolls: [6, 5, 2], Defender Rolls: [3, 3]\n",
      "  Attacker Losses: 0, Defender Losses: 2\n",
      "\n",
      "Round 9:\n",
      "  Attacker Rolls: [3, 2, 1], Defender Rolls: [6, 3]\n",
      "  Attacker Losses: 2, Defender Losses: 0\n",
      "\n",
      "Round 10:\n",
      "  Attacker Rolls: [6, 5, 5], Defender Rolls: [6, 1]\n",
      "  Attacker Losses: 1, Defender Losses: 1\n",
      "\n"
     ]
    }
   ],
   "source": [
    "def simulate_battle_round():\n",
    "\n",
    "    attacker_rolls = sorted(np.random.randint(1, 7, 3), reverse=True)       # toll dice 1-6, 3 times - rolls are sorted in descending order (reverse=True). Need highest first.\n",
    "    defender_rolls = sorted(np.random.randint(1, 7, 2), reverse=True)       # toll dice 1-6, 2 times - rolls are sorted in descending order\n",
    "    \n",
    "    attacker_losses = 0                                                     # variables that count the losses from 0\n",
    "    defender_losses = 0\n",
    "    \n",
    "    if attacker_rolls[0] <= defender_rolls[0]:                              # If the attacker’s first roll is less than or equal to the defender's\n",
    "        attacker_losses += 1                                                # the attacker loses a troop\n",
    "    else:\n",
    "        defender_losses += 1                                                # otherwise the defender loses\n",
    "    \n",
    "    if attacker_rolls[1] <= defender_rolls[1]:                              # second roll and comparison\n",
    "        attacker_losses += 1\n",
    "    else:\n",
    "        defender_losses += 1\n",
    "    \n",
    "    return attacker_losses, defender_losses, attacker_rolls, defender_rolls \n",
    "\n",
    "num_rounds = 1000                                                            \n",
    "attacker_losses = []                                                        # creates empty lists [] to store results to use below\n",
    "defender_losses = []\n",
    "all_attacker_rolls = []\n",
    "all_defender_rolls = []\n",
    "\n",
    "for _ in range(num_rounds):\n",
    "    a_loss, d_loss, a_rolls, d_rolls = simulate_battle_round()              # results are stored in variables\n",
    "    attacker_losses.append(a_loss)                                          # Each result is appended to the appropriate list, storing the losses and rolls from each round.\n",
    "    defender_losses.append(d_loss)\n",
    "    all_attacker_rolls.append(a_rolls)\n",
    "    all_defender_rolls.append(d_rolls)\n",
    "    \n",
    "rounds_to_print = min(10, len(all_attacker_rolls))                          # Print up to 10 rounds, or less to check the results\n",
    "print(f\"\\nFirst {rounds_to_print} rounds' dice rolls and losses:\")\n",
    "for i in range(rounds_to_print):                                            # gets the results of each specific round using the index i.                                 \n",
    "    print(f\"Round {i+1}:\")                                                  # i taking values 1 through 10.\n",
    "    print(f\"  Attacker Rolls: {all_attacker_rolls[i]}, Defender Rolls: {all_defender_rolls[i]}\")  # pulls data from all_attacker_rolls and all_defender_rolls.\n",
    "    print(f\"  Attacker Losses: {attacker_losses[i]}, Defender Losses: {defender_losses[i]}\")      # as above for attacker_losses and defender_losse\n",
    "    print()                                                                 # blank line for space btween next round"
   ]
  },
  {
   "cell_type": "markdown",
   "metadata": {},
   "source": [
    "### 4. Plot the Results\n",
    "***"
   ]
  },
  {
   "cell_type": "code",
   "execution_count": 7,
   "metadata": {},
   "outputs": [
    {
     "data": {
      "image/png": "[encoded data removed]",
      "text/plain": [
       "<Figure size 640x480 with 1 Axes>"
      ]
     },
     "metadata": {},
     "output_type": "display_data"
    }
   ],
   "source": [
    "attacker_loss_counts = [attacker_losses.count(i) for i in range(3)]         # counts the losses 0, 1, 2 into a list\n",
    "defender_loss_counts = [defender_losses.count(i) for i in range(3)]\n",
    "\n",
    "labels = ['0 Losses', '1 Loss', '2 Losses']                                 # x-axis\n",
    "x = np.arange(len(labels))                                                  # array for the position for 0,1,2\n",
    "width = 0.35                                                                # bar size\n",
    "\n",
    "fig, ax = plt.subplots()\n",
    "bars1 = ax.bar(x - width/2, attacker_loss_counts, width, label='Attacker Losses', color='#24b1d1')\n",
    "bars2 = ax.bar(x + width/2, defender_loss_counts, width, label='Defender Losses', color='#ae24d1')\n",
    "\n",
    "total_attacker_losses = sum(attacker_losses)\n",
    "total_defender_losses = sum(defender_losses)\n",
    "\n",
    "#print(\"Total Attacker Losses:\", total_attacker_losses)\n",
    "#print(\"Total Defender Losses:\", total_defender_losses)\n",
    "\n",
    "ax.set_xlabel('Troop Losses',fontsize=10,style=\"italic\",family=\"monospace\")\n",
    "ax.set_ylabel('Frequency',fontsize=10,style=\"italic\",family=\"monospace\")\n",
    "ax.set_title('Frequency of Troop Losses',fontsize=18,loc=\"center\",horizontalalignment=\"center\",verticalalignment=\"bottom\",fontweight=\"bold\",family=\"monospace\")\n",
    "ax.set_xticks(x)\n",
    "ax.set_xticklabels(labels)\n",
    "ax.legend(title=\"Troop Losses\",loc=\"center left\",bbox_to_anchor=(1, 0, 0.5, 1))\n",
    "\n",
    "plt.show()"
   ]
  },
  {
   "cell_type": "markdown",
   "metadata": {},
   "source": [
    "### 5. References\n",
    "***\n",
    "\n",
    "1. Topic 5 Lecture Notebooks - Numpy and Random\n",
    "\n",
    "2. Code Review-Stack Exchange - code without random - https://codereview.stackexchange.com/questions/249260/python-risk-game\n",
    "\n",
    "3. numpy.random.randint - https://numpy.org/doc/stable/reference/random/generated/numpy.random.randint.html \n",
    "\n",
    "4. Python, numpy sort array - Reverse = True - https://stackoverflow.com/questions/14875248/python-numpy-sort-array\n",
    "   \n",
    "5. w3schools - NumPy Sorting Arrays - https://www.w3schools.com/python/numpy/numpy_array_sort.asp\n",
    "\n",
    "6. Efficiently sorting a numpy array in descending order - https://stackoverflow.com/questions/26984414/efficiently-sorting-a-numpy-array-in-descending-order - \n",
    "   Note to myself: attacker[::-1].sort() sorts the array in place, whereas a=np.sort(attacker)[::-1] creates a new array.    \n",
    "\n",
    "7. The Python Coding Book - Using Python’s NumPy To Improve Your Board Game Strategy: Your Odds When Attacking in ‘Risk’ - https://thepythoncodingbook.com/2022/12/30/using-python-numpy-to-improve-board-game-strategy-risk/\n",
    "\n",
    "8.  numpy.append - https://numpy.org/doc/stable/reference/generated/numpy.append.html\n",
    "\n",
    "9.  np.append() - How To Use NumPy Append in Python - https://www.nickmccullum.com/numpy-np-append/\n",
    "\n",
    "10. Python's min() and max(): Find Smallest and Largest Values -  https://realpython.com/python-min-and-max/\n",
    "\n",
    "11. Grouped bar chart with labels - https://matplotlib.org/stable/gallery/lines_bars_and_markers/barchart.html#sphx-glr-gallery-lines-bars-and-markers-barchart-py\n",
    "\n",
    "12. Bar Plots in Matplotlib - https://python-fiddle.com/tutorials/matplotlib-bar-plot   x - width/2\n",
    "\n",
    "13. matplotlib.axes.Axes.set_xticks - https://matplotlib.org/stable/api/_as_gen/matplotlib.axes.Axes.set_xticks.html\n",
    "\n"
   ]
  },
  {
   "cell_type": "markdown",
   "metadata": {},
   "source": [
    "***\n",
    "## End"
   ]
  }
 ],
 "metadata": {
  "kernelspec": {
   "display_name": "base",
   "language": "python",
   "name": "python3"
  },
  "language_info": {
   "codemirror_mode": {
    "name": "ipython",
    "version": 3
   },
   "file_extension": ".py",
   "mimetype": "text/x-python",
   "name": "python",
   "nbconvert_exporter": "python",
   "pygments_lexer": "ipython3",
   "version": "3.12.4"
  }
 },
 "nbformat": 4,
 "nbformat_minor": 2
}
